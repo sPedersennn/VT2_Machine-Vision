{
 "cells": [
  {
   "cell_type": "markdown",
   "id": "d7e0c820",
   "metadata": {},
   "source": [
    "**Calibration**"
   ]
  },
  {
   "cell_type": "markdown",
   "id": "cced0abd",
   "metadata": {},
   "source": [
    "Firstly all the libraries used for the Calibration is imported"
   ]
  },
  {
   "cell_type": "code",
   "execution_count": null,
   "id": "6eef7186",
   "metadata": {},
   "outputs": [],
   "source": [
    "import cv2\n",
    "import numpy as np\n",
    "import time "
   ]
  },
  {
   "cell_type": "markdown",
   "id": "5c3addb1",
   "metadata": {},
   "source": [
    "The Chessboard's specific size is important when calibrating, the one used i a 9x6. Two lists for the object and image points are made to store the 3D points in real world space and 2D in the image plane"
   ]
  },
  {
   "cell_type": "code",
   "execution_count": null,
   "id": "40b0e1cf",
   "metadata": {},
   "outputs": [],
   "source": [
    "# Chessboard dimensions (number of inner corners per chessboard row and column)\n",
    "chessboard_dims = (9, 6)  # 9x6 grid of inner corners\n",
    "\n",
    "# Prepare object points (3D points in real world space)\n",
    "obj_points = []  # 3D points in real world space\n",
    "img_points = []  # 2D points in image plane\n",
    "\n",
    "# Prepare object points (like (0,0,0), (1,0,0), (2,0,0), ..., (8,5,0)) based on the chessboard size\n",
    "objp = np.zeros((np.prod(chessboard_dims), 3), dtype=np.float32)\n",
    "objp[:, :2] = np.indices(chessboard_dims).T.reshape(-1, 2)"
   ]
  },
  {
   "cell_type": "markdown",
   "id": "2d890f7a",
   "metadata": {},
   "source": [
    "Next the camera needs to be activated for use, and the amount of calibration images wanted is defined"
   ]
  },
  {
   "cell_type": "code",
   "execution_count": null,
   "id": "c0cd6502",
   "metadata": {},
   "outputs": [],
   "source": [
    "# Open webcam feed\n",
    "cap = cv2.VideoCapture(0)  # Open default camera\n",
    "\n",
    "# Initialize image counter\n",
    "image_count = 0\n",
    "max_images = 50  # Set the number of images for calibration\n",
    "\n",
    "print(\"Capturing images for calibration. Press 'q' to quit.\")"
   ]
  },
  {
   "cell_type": "markdown",
   "id": "2981f8c9",
   "metadata": {},
   "source": [
    "The while loop that takes the pictures"
   ]
  },
  {
   "cell_type": "code",
   "execution_count": null,
   "id": "eaacdb1f",
   "metadata": {},
   "outputs": [],
   "source": [
    "while image_count < max_images:\n",
    "    ret, img = cap.read()\n",
    "    if not ret:\n",
    "        break\n",
    "    \n",
    "    # Convert to grayscale\n",
    "    gray = cv2.cvtColor(img, cv2.COLOR_BGR2GRAY)\n",
    "\n",
    "    # Find the chessboard corners\n",
    "    ret, corners = cv2.findChessboardCorners(gray, chessboard_dims, None)\n",
    "\n",
    "    if ret:\n",
    "        # If corners are found, add object points and image points\n",
    "        img_points.append(corners)\n",
    "        obj_points.append(objp)\n",
    "\n",
    "        # Draw and display the corners, to make sure the code is finding the chessboard correctly\n",
    "        cv2.drawChessboardCorners(img, chessboard_dims, corners, ret)\n",
    "        cv2.imshow('Chessboard', img)\n",
    "        image_count += 1  # Increment image counter\n",
    "        print(f\"Captured {image_count}/{max_images} images\")\n",
    "\n",
    "        # Wait for 1 second before capturing the next image, to ensure the chessboard can be moved to different positions insted of X images being the same\n",
    "        time.sleep(1)\n",
    "\n",
    "    # Display the captured frame\n",
    "    cv2.imshow('Capture Chessboard Image', img)\n",
    "\n",
    "    # Wait for the user to press 'q' to exit early\n",
    "    if cv2.waitKey(1) & 0xFF == ord('q'):\n",
    "        break"
   ]
  },
  {
   "cell_type": "markdown",
   "id": "0135983c",
   "metadata": {},
   "source": [
    "After all the pictures are taken, the found points will be used to calculate the camera matrix along with the distortion coefficients. These will be saved in a npz file to be used in the other notesbooks"
   ]
  },
  {
   "cell_type": "code",
   "execution_count": null,
   "id": "11552602",
   "metadata": {},
   "outputs": [],
   "source": [
    "# Release the camera and close windows\n",
    "cap.release()\n",
    "cv2.destroyAllWindows()\n",
    "\n",
    "# Perform the calibration once enough images are captured\n",
    "if len(img_points) >= max_images:\n",
    "    ret, mtx, dist, rvecs, tvecs = cv2.calibrateCamera(obj_points, img_points, gray.shape[::-1], None, None)\n",
    "\n",
    "    # Calibration result: Camera matrix (intrinsic parameters) and distortion coefficients\n",
    "    print(\"Camera matrix:\", mtx)\n",
    "    print(\"Distortion coefficients:\", dist)\n",
    "\n",
    "    # Save calibration parameters for later use\n",
    "    np.savez('camera_calibration_params.npz', mtx=mtx, dist=dist)\n",
    "\n",
    "    cv2.waitKey(0)\n",
    "    cv2.destroyAllWindows()\n",
    "else:\n",
    "    #If the images are insufficient the code will let us know\n",
    "    print(f\"Not enough images for calibration. Only captured {len(img_points)} images.\")"
   ]
  }
 ],
 "metadata": {
  "kernelspec": {
   "display_name": "Python 3",
   "language": "python",
   "name": "python3"
  },
  "language_info": {
   "codemirror_mode": {
    "name": "ipython",
    "version": 3
   },
   "file_extension": ".py",
   "mimetype": "text/x-python",
   "name": "python",
   "nbconvert_exporter": "python",
   "pygments_lexer": "ipython3",
   "version": "3.12.7"
  }
 },
 "nbformat": 4,
 "nbformat_minor": 5
}
