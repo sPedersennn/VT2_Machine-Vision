{
 "cells": [
  {
   "cell_type": "markdown",
   "id": "d7e0c820",
   "metadata": {},
   "source": [
    "**Calibration**"
   ]
  },
  {
   "cell_type": "markdown",
   "id": "cced0abd",
   "metadata": {},
   "source": [
    "Firstly all the libraries used for the Calibration is imported"
   ]
  },
  {
   "cell_type": "code",
   "execution_count": 5,
   "id": "6eef7186",
   "metadata": {},
   "outputs": [],
   "source": [
    "import os\n",
    "os.environ[\"OPENCV_VIDEOIO_MSMF_ENABLE_HW_TRANSFORMS\"] = \"0\"\n",
    "import cv2\n",
    "import numpy as np\n",
    "import time "
   ]
  },
  {
   "cell_type": "markdown",
   "id": "5c3addb1",
   "metadata": {},
   "source": [
    "The Chessboard's specific size is important when calibrating, the one used i a 9x6. Two lists for the object and image points are made to store the 3D points in real world space and 2D in the image plane"
   ]
  },
  {
   "cell_type": "code",
   "execution_count": 6,
   "id": "40b0e1cf",
   "metadata": {},
   "outputs": [],
   "source": [
    "# Chessboard dimensions (number of inner corners per chessboard row and column)\n",
    "chessboard_dims = (9, 6)  # 9x6 grid of inner corners\n",
    "\n",
    "# Prepare object points (3D points in real world space)\n",
    "obj_points = []  # 3D points in real world space\n",
    "img_points = []  # 2D points in image plane\n",
    "\n",
    "# Prepare object points (like (0,0,0), (1,0,0), (2,0,0), ..., (8,5,0)) based on the chessboard size\n",
    "objp = np.zeros((np.prod(chessboard_dims), 3), dtype=np.float32)\n",
    "objp[:, :2] = np.indices(chessboard_dims).T.reshape(-1, 2)"
   ]
  },
  {
   "cell_type": "markdown",
   "id": "2d890f7a",
   "metadata": {},
   "source": [
    "Next the camera needs to be activated for use, and the amount of calibration images wanted is defined"
   ]
  },
  {
   "cell_type": "code",
   "execution_count": null,
   "id": "c0cd6502",
   "metadata": {},
   "outputs": [
    {
     "name": "stdout",
     "output_type": "stream",
     "text": [
      "Capturing images for calibration. Press 'q' to quit.\n"
     ]
    }
   ],
   "source": [
    "# Open webcam feed\n",
    "cap = cv2.VideoCapture(0)  # Open default camera\n",
    "\n",
    "# Initialize image counter\n",
    "image_count = 0\n",
    "max_images = 50  # Set the number of images for calibration\n",
    "\n",
    "print(\"Ready to capture images for calibration. Press 'q' to quit.\")"
   ]
  },
  {
   "cell_type": "markdown",
   "id": "2981f8c9",
   "metadata": {},
   "source": [
    "The while loop that takes the pictures"
   ]
  },
  {
   "cell_type": "code",
   "execution_count": null,
   "id": "eaacdb1f",
   "metadata": {},
   "outputs": [
    {
     "name": "stdout",
     "output_type": "stream",
     "text": [
      "Captured 1/50 images\n",
      "Captured 2/50 images\n",
      "Captured 3/50 images\n",
      "Captured 4/50 images\n",
      "Captured 5/50 images\n",
      "Captured 6/50 images\n",
      "Captured 7/50 images\n",
      "Captured 8/50 images\n",
      "Captured 9/50 images\n",
      "Captured 10/50 images\n",
      "Captured 11/50 images\n",
      "Captured 12/50 images\n",
      "Captured 13/50 images\n",
      "Captured 14/50 images\n",
      "Captured 15/50 images\n",
      "Captured 16/50 images\n",
      "Captured 17/50 images\n",
      "Captured 18/50 images\n",
      "Captured 19/50 images\n",
      "Captured 20/50 images\n",
      "Captured 21/50 images\n",
      "Captured 22/50 images\n",
      "Captured 23/50 images\n",
      "Captured 24/50 images\n",
      "Captured 25/50 images\n",
      "Captured 26/50 images\n",
      "Captured 27/50 images\n",
      "Captured 28/50 images\n",
      "Captured 29/50 images\n",
      "Captured 30/50 images\n",
      "Captured 31/50 images\n",
      "Captured 32/50 images\n",
      "Captured 33/50 images\n",
      "Captured 34/50 images\n",
      "Captured 35/50 images\n",
      "Captured 36/50 images\n",
      "Captured 37/50 images\n",
      "Captured 38/50 images\n",
      "Captured 39/50 images\n",
      "Captured 40/50 images\n",
      "Captured 41/50 images\n",
      "Captured 42/50 images\n",
      "Captured 43/50 images\n",
      "Captured 44/50 images\n",
      "Captured 45/50 images\n",
      "Captured 46/50 images\n",
      "Captured 47/50 images\n",
      "Captured 48/50 images\n",
      "Captured 49/50 images\n",
      "Captured 50/50 images\n"
     ]
    }
   ],
   "source": [
    "while image_count < max_images:\n",
    "    ret, img = cap.read()\n",
    "    if not ret:\n",
    "        break\n",
    "    \n",
    "    # Convert to grayscale\n",
    "    gray = cv2.cvtColor(img, cv2.COLOR_BGR2GRAY)\n",
    "\n",
    "    # Find the chessboard corners\n",
    "    ret, corners = cv2.findChessboardCorners(gray, chessboard_dims, None)\n",
    "\n",
    "    if ret:\n",
    "        # If corners are found, add object points and image points\n",
    "        img_points.append(corners)\n",
    "        obj_points.append(objp)\n",
    "\n",
    "        # Draw and display the corners, to make sure the code is finding the chessboard correctly\n",
    "        cv2.drawChessboardCorners(img, chessboard_dims, corners, ret)\n",
    "        cv2.imshow('Chessboard', img)\n",
    "        image_count += 1  # Increment image counter\n",
    "        print(f\"Captured {image_count}/{max_images} images\")\n",
    "\n",
    "        # Wait for 1 second before capturing the next image, to ensure the chessboard can be moved to different positions insted of X images being the same\n",
    "        time.sleep(1)\n",
    "\n",
    "    # Display the captured frame\n",
    "    cv2.imshow('Capture Chessboard Image', img)\n",
    "\n",
    "    # Wait for the user to press 'q' to exit early\n",
    "    if cv2.waitKey(1) & 0xFF == ord('q'):\n",
    "        break\n",
    "\n",
    "    # Release the camera and close windows\n",
    "cap.release()\n",
    "cv2.destroyAllWindows()"
   ]
  },
  {
   "cell_type": "markdown",
   "id": "0135983c",
   "metadata": {},
   "source": [
    "After all the pictures are taken, the found points will be used to calculate the camera matrix along with the distortion coefficients. These will be saved in a npz file to be used in the other notesbooks"
   ]
  },
  {
   "cell_type": "code",
   "execution_count": null,
   "id": "11552602",
   "metadata": {},
   "outputs": [
    {
     "name": "stdout",
     "output_type": "stream",
     "text": [
      "Camera matrix: [[813.28558132   0.         315.51506987]\n",
      " [  0.         818.14578563 242.95098013]\n",
      " [  0.           0.           1.        ]]\n",
      "Distortion coefficients: [[-4.01578308e-02  1.62823323e+00 -4.10914432e-03 -1.10870070e-03\n",
      "  -6.18164982e+00]]\n"
     ]
    }
   ],
   "source": [
    "# Perform the calibration once enough images are captured\n",
    "if len(img_points) >= max_images:\n",
    "    ret, mtx, dist, rvecs, tvecs = cv2.calibrateCamera(obj_points, img_points, gray.shape[::-1], None, None)\n",
    "\n",
    "    # Calibration result: Camera matrix (intrinsic parameters) and distortion coefficients\n",
    "    print(\"Camera matrix:\", mtx)\n",
    "    print(\"Distortion coefficients:\", dist)\n",
    "\n",
    "    # Save calibration parameters for later use\n",
    "    np.savez('camera_calibration_params.npz', mtx=mtx, dist=dist)\n",
    "\n",
    "    cv2.waitKey(0)\n",
    "    cv2.destroyAllWindows()\n",
    "else:\n",
    "    #If the images are insufficient the code will let us know\n",
    "    print(f\"Not enough images for calibration. Only captured {len(img_points)} images.\")"
   ]
  }
 ],
 "metadata": {
  "kernelspec": {
   "display_name": "Python 3",
   "language": "python",
   "name": "python3"
  },
  "language_info": {
   "codemirror_mode": {
    "name": "ipython",
    "version": 3
   },
   "file_extension": ".py",
   "mimetype": "text/x-python",
   "name": "python",
   "nbconvert_exporter": "python",
   "pygments_lexer": "ipython3",
   "version": "3.12.7"
  }
 },
 "nbformat": 4,
 "nbformat_minor": 5
}
