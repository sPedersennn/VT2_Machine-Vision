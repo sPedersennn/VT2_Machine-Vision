{
 "cells": [
  {
   "cell_type": "code",
   "execution_count": null,
   "id": "64f56f24",
   "metadata": {},
   "outputs": [],
   "source": [
    "from torchvision import datasets, transforms\n",
    "from torch.utils.data import DataLoader\n",
    "\n",
    "# Define transform - same as your CIFAR10 one\n",
    "transform = transforms.Compose([\n",
    "    transforms.Resize((32, 32)),  # match CIFAR-10 size\n",
    "    transforms.ToTensor(),\n",
    "    transforms.Normalize((0.5, 0.5, 0.5), (0.5, 0.5, 0.5))\n",
    "])\n",
    "\n",
    "batch_size = 4\n",
    "\n",
    "# Use ImageFolder for your dataset\n",
    "trainset = datasets.ImageFolder(root='cropped/', transform=transform)\n",
    "trainloader = DataLoader(trainset, batch_size=batch_size, shuffle=True, num_workers=2)\n",
    "\n",
    "testset = datasets.ImageFolder(root='cropped/', transform=transform)\n",
    "testloader = DataLoader(testset, batch_size=batch_size, shuffle=False, num_workers=2)\n",
    "\n",
    "# Get class names\n",
    "classes = trainset.classes\n",
    "print(\"Classes:\", classes)\n"
   ]
  }
 ],
 "metadata": {
  "language_info": {
   "name": "python"
  }
 },
 "nbformat": 4,
 "nbformat_minor": 5
}
