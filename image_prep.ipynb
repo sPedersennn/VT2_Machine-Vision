{
 "cells": [
  {
   "cell_type": "markdown",
   "id": "f4dd2716",
   "metadata": {},
   "source": [
    "**Image preparation**"
   ]
  },
  {
   "cell_type": "markdown",
   "id": "00494964",
   "metadata": {},
   "source": [
    "Firstly all libaries will be imported."
   ]
  },
  {
   "cell_type": "code",
   "execution_count": 1,
   "id": "81981267",
   "metadata": {},
   "outputs": [],
   "source": [
    "import cv2 as cv\n",
    "import os\n",
    "import numpy as np"
   ]
  },
  {
   "cell_type": "markdown",
   "id": "fc9d1ff9",
   "metadata": {},
   "source": [
    "Images of the subjects will be taken in specified categories"
   ]
  },
  {
   "cell_type": "code",
   "execution_count": null,
   "id": "43b6a23a",
   "metadata": {},
   "outputs": [],
   "source": []
  },
  {
   "cell_type": "markdown",
   "id": "fe50f175",
   "metadata": {},
   "source": [
    "Define output folder for the processed and cropped images"
   ]
  },
  {
   "cell_type": "code",
   "execution_count": 2,
   "id": "10e3624a",
   "metadata": {},
   "outputs": [],
   "source": [
    "output_folders = [\"Processed/Hex\", \"Processed/Machine\", \"Processed/Philips\", \"Processed/Torx\"]\n",
    "cropped_folders = [\"Cropped/Hex\", \"Cropped/Machine\", \"Cropped/Philips\", \"Cropped/Torx\"]\n"
   ]
  }
 ],
 "metadata": {
  "kernelspec": {
   "display_name": "Python 3",
   "language": "python",
   "name": "python3"
  },
  "language_info": {
   "codemirror_mode": {
    "name": "ipython",
    "version": 3
   },
   "file_extension": ".py",
   "mimetype": "text/x-python",
   "name": "python",
   "nbconvert_exporter": "python",
   "pygments_lexer": "ipython3",
   "version": "3.12.6"
  }
 },
 "nbformat": 4,
 "nbformat_minor": 5
}
