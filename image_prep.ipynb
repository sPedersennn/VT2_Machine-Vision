{
 "cells": [
  {
   "cell_type": "markdown",
   "id": "f4dd2716",
   "metadata": {},
   "source": [
    "**Image preparation**"
   ]
  },
  {
   "cell_type": "markdown",
   "id": "00494964",
   "metadata": {},
   "source": [
    "Firstly all libaries will be imported."
   ]
  },
  {
   "cell_type": "code",
   "execution_count": 14,
   "id": "81981267",
   "metadata": {},
   "outputs": [],
   "source": [
    "import cv2 as cv\n",
    "import os\n",
    "import numpy as np"
   ]
  },
  {
   "cell_type": "markdown",
   "id": "fe50f175",
   "metadata": {},
   "source": [
    "Define input and output folders for the processed and cropped images so the images can be prepared for the model"
   ]
  },
  {
   "cell_type": "code",
   "execution_count": 15,
   "id": "10e3624a",
   "metadata": {},
   "outputs": [],
   "source": [
    "input_folders = [\"Dataset/Plaster\", \"Dataset/Machine\", \"Dataset/Philips\", \"Dataset/Torx\"]\n",
    "output_folders = [\"Processed/Plaster\", \"Processed/Machine\", \"Processed/Philips\", \"Processed/Torx\"]\n",
    "cropped_folders = [\"Cropped/Plaster\", \"Cropped/Machine\", \"Cropped/Philips\", \"Cropped/Torx\"]\n",
    "\n",
    "# Create output folders if they don't exist\n",
    "for folder in output_folders + cropped_folders:\n",
    "    os.makedirs(folder, exist_ok=True)"
   ]
  },
  {
   "cell_type": "markdown",
   "id": "68633b06",
   "metadata": {},
   "source": [
    "When all the output folders are created, the kernel used for blob dilation will be defined. Here it is important to use a odd-number for dilation size."
   ]
  },
  {
   "cell_type": "code",
   "execution_count": 16,
   "id": "c85b154e",
   "metadata": {},
   "outputs": [],
   "source": [
    "# Define a kernel for dilation\n",
    "kernel = np.ones((9,9), np.uint8)  # Adjust size if needed"
   ]
  },
  {
   "cell_type": "markdown",
   "id": "a75c6694",
   "metadata": {},
   "source": [
    "With the dilation kernel defined, each image will be processed using grayscale, dilation, contours and will be cropped from the original image."
   ]
  },
  {
   "cell_type": "code",
   "execution_count": 17,
   "id": "c81b804e",
   "metadata": {},
   "outputs": [],
   "source": [
    "for input_folder, output_folder, cropped_folder in zip(input_folders, output_folders, cropped_folders):\n",
    "    for filename in os.listdir(input_folder):\n",
    "        if filename.endswith((\".jpg\")):\n",
    "\n",
    "            # Read the image from the dataset\n",
    "            img_path = os.path.join(input_folder, filename)\n",
    "            img = cv.imread(img_path)\n",
    "\n",
    "            # Convert the image to grayscale\n",
    "            gray = cv.cvtColor(img, cv.COLOR_BGR2GRAY)\n",
    "\n",
    "            # Apply a threshold to create a blob on the subject\n",
    "            _, thresh = cv.threshold(gray, 100, 255, cv.THRESH_BINARY_INV)\n",
    "\n",
    "            # The dilation will be applied to ensure all parts of the screw remains\n",
    "            dilated = cv.dilate(thresh, kernel, iterations=2)\n",
    "\n",
    "            # The processed image is saved\n",
    "            output_path = os.path.join(output_folder, filename)\n",
    "            cv.imwrite(output_path, dilated)\n",
    "\n",
    "            # Using contours, the blobs are detected\n",
    "            contours, _ = cv.findContours(dilated, cv.RETR_EXTERNAL, cv.CHAIN_APPROX_SIMPLE)\n",
    "\n",
    "            # Loop through each detected object and crop it from the original image\n",
    "            padding = 10  # Adjust this value to control how much bigger you want the box\n",
    "\n",
    "            for i, contour in enumerate(contours):\n",
    "                x, y, w, h = cv.boundingRect(contour)\n",
    "\n",
    "                # Expand the bounding box\n",
    "                x_exp = max(x - padding, 0)\n",
    "                y_exp = max(y - padding, 0)\n",
    "                w_exp = min(w + 2 * padding, img.shape[1] - x_exp)\n",
    "                h_exp = min(h + 2 * padding, img.shape[0] - y_exp)\n",
    "\n",
    "                cropped = img[y_exp:y_exp + h_exp, x_exp:x_exp + w_exp]\n",
    "\n",
    "\n",
    "                # The cropped image is saved\n",
    "                cropped_filename = f\"{filename.split('.')[0]}_crop_{i}.png\"\n",
    "                cropped_path = os.path.join(cropped_folder, cropped_filename)\n",
    "                cv.imwrite(cropped_path, cropped)"
   ]
  }
 ],
 "metadata": {
  "kernelspec": {
   "display_name": "Python 3",
   "language": "python",
   "name": "python3"
  },
  "language_info": {
   "codemirror_mode": {
    "name": "ipython",
    "version": 3
   },
   "file_extension": ".py",
   "mimetype": "text/x-python",
   "name": "python",
   "nbconvert_exporter": "python",
   "pygments_lexer": "ipython3",
   "version": "3.12.7"
  }
 },
 "nbformat": 4,
 "nbformat_minor": 5
}
